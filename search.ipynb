{
 "cells": [
  {
   "cell_type": "code",
   "execution_count": 1,
   "metadata": {},
   "outputs": [],
   "source": [
    "from connections.local_connection import sales_tracings_local as sl\n",
    "import os\n",
    "import pandas as pd\n",
    "from rich import print"
   ]
  },
  {
   "cell_type": "code",
   "execution_count": 6,
   "metadata": {},
   "outputs": [
    {
     "data": {
      "text/html": [
       "<pre style=\"white-space:pre;overflow-x:auto;line-height:normal;font-family:Menlo,'DejaVu Sans Mono',consolas,'Courier New',monospace\">^<span style=\"font-weight: bold\">(</span>R30605|R40605|R205A|R206A|R9838|R10187|R10189|R10688<span style=\"font-weight: bold\">)</span>\n",
       "</pre>\n"
      ],
      "text/plain": [
       "^\u001b[1m(\u001b[0mR30605|R40605|R205A|R206A|R9838|R10187|R10189|R10688\u001b[1m)\u001b[0m\n"
      ]
     },
     "metadata": {},
     "output_type": "display_data"
    }
   ],
   "source": [
    "premier_contracts = [\n",
    "    \"R30605\",\n",
    "    \"R40605\",\n",
    "    \"R205A\",\n",
    "    \"R206A\",\n",
    "    \"R9838\",\n",
    "    \"R10187\",\n",
    "    \"R10189\",\n",
    "    \"R10688\"\n",
    "]\n",
    "\n",
    "premier_contracts_regex = \"|\".join(premier_contracts)\n",
    "premier_contracts_regex = rf\"^({premier_contracts_regex})\"\n",
    "\n",
    "print(premier_contracts_regex)\n"
   ]
  },
  {
   "cell_type": "code",
   "execution_count": 10,
   "metadata": {},
   "outputs": [],
   "source": [
    "sales = list(\n",
    "    sl.find({\n",
    "    \"rebate_contract\": {\n",
    "        \"$regex\": premier_contracts_regex,\n",
    "        \"$options\": \"i\"\n",
    "    }\n",
    "})\n",
    ")\n",
    "\n"
   ]
  },
  {
   "cell_type": "code",
   "execution_count": 11,
   "metadata": {},
   "outputs": [],
   "source": [
    "sales_df = pd.DataFrame(sales)"
   ]
  },
  {
   "cell_type": "code",
   "execution_count": 13,
   "metadata": {},
   "outputs": [],
   "source": [
    "save_path = os.path.join(r\"//busse\", \"sales tracings\", \"premier_sales.xlsx\")\n",
    "sales_df.to_excel(save_path, index=False)"
   ]
  }
 ],
 "metadata": {
  "kernelspec": {
   "display_name": "venv",
   "language": "python",
   "name": "python3"
  },
  "language_info": {
   "codemirror_mode": {
    "name": "ipython",
    "version": 3
   },
   "file_extension": ".py",
   "mimetype": "text/x-python",
   "name": "python",
   "nbconvert_exporter": "python",
   "pygments_lexer": "ipython3",
   "version": "3.11.0"
  },
  "orig_nbformat": 4,
  "vscode": {
   "interpreter": {
    "hash": "b8310e2b854eb282b3a7bef7f2db086d0c38635baafdea8969a52fd3265d2786"
   }
  }
 },
 "nbformat": 4,
 "nbformat_minor": 2
}
